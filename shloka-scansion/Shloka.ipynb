{
 "cells": [
  {
   "cell_type": "code",
   "execution_count": 1,
   "id": "b9e90a38",
   "metadata": {},
   "outputs": [],
   "source": [
    "import pandas as pd\n",
    "import matplotlib.pyplot as plt\n",
    "import seaborn as sns\n",
    "import numpy as np\n",
    "import tabulate\n",
    "from  matplotlib.ticker import FuncFormatter\n",
    "\n",
    "sns.set_style(\"whitegrid\")\n",
    "pd.set_option(\"styler.format.decimal\", \",\")\n",
    "pd.set_option(\"styler.format.precision\", 2)\n",
    "pd.set_option(\"styler.format.na_rep\", \"–\")\n",
    "\n",
    "def write_table(df, the_name, caption=\"\"):\n",
    "    with open(f\"table-{the_name}.tex\", \"w\") as f:\n",
    "        f.write(df.style.to_latex(hrules=True, sparse_index=False, environment=\"longtable\", position=\"!hbt\", caption=caption, label=\"tbl:\"+the_name))"
   ]
  },
  {
   "cell_type": "code",
   "execution_count": 60,
   "id": "083257fa",
   "metadata": {},
   "outputs": [],
   "source": [
    "df = pd.read_csv(\"mahabharata.csv\")\n",
    "df_localisation = pd.read_csv(\"mahabharata-localisation.csv\")"
   ]
  },
  {
   "cell_type": "code",
   "execution_count": 63,
   "id": "d1829753",
   "metadata": {},
   "outputs": [
    {
     "data": {
      "text/plain": [
       "0          1\n",
       "1          5\n",
       "2          9\n",
       "3         11\n",
       "4         13\n",
       "          ..\n",
       "809848     7\n",
       "809849     9\n",
       "809850    11\n",
       "809851    12\n",
       "809852    14\n",
       "Name: position, Length: 809853, dtype: int64"
      ]
     },
     "execution_count": 63,
     "metadata": {},
     "output_type": "execute_result"
    }
   ],
   "source": [
    "df_localisation.position"
   ]
  },
  {
   "cell_type": "code",
   "execution_count": 64,
   "id": "d7b56290",
   "metadata": {},
   "outputs": [
    {
     "data": {
      "text/plain": [
       "position\n",
       "1     1020\n",
       "2      332\n",
       "3       52\n",
       "5     7390\n",
       "9     1516\n",
       "10     325\n",
       "Name: word, dtype: int64"
      ]
     },
     "execution_count": 64,
     "metadata": {},
     "output_type": "execute_result"
    }
   ],
   "source": [
    "df_localisation.groupby([\"lengths\", \"position\"])[\"word\"].count()[\"LGGL\"]"
   ]
  },
  {
   "cell_type": "code",
   "execution_count": 87,
   "id": "d0e18c12",
   "metadata": {},
   "outputs": [
    {
     "data": {
      "text/plain": [
       "<AxesSubplot:xlabel='position'>"
      ]
     },
     "execution_count": 87,
     "metadata": {},
     "output_type": "execute_result"
    },
    {
     "data": {
      "image/png": "[encoded data removed]",
      "text/plain": [
       "<Figure size 640x480 with 1 Axes>"
      ]
     },
     "metadata": {},
     "output_type": "display_data"
    }
   ],
   "source": [
    "# TODO graph here\n",
    "df_localisation.groupby([\"lengths\", \"position\"]).size()[\"GLL\"].plot.bar()"
   ]
  },
  {
   "cell_type": "code",
   "execution_count": 22,
   "id": "28627451",
   "metadata": {},
   "outputs": [
    {
     "data": {
      "text/html": [
       "<div>\n",
       "<style scoped>\n",
       "    .dataframe tbody tr th:only-of-type {\n",
       "        vertical-align: middle;\n",
       "    }\n",
       "\n",
       "    .dataframe tbody tr th {\n",
       "        vertical-align: top;\n",
       "    }\n",
       "\n",
       "    .dataframe thead th {\n",
       "        text-align: right;\n",
       "    }\n",
       "</style>\n",
       "<table border=\"1\" class=\"dataframe\">\n",
       "  <thead>\n",
       "    <tr style=\"text-align: right;\">\n",
       "      <th></th>\n",
       "      <th>parva</th>\n",
       "      <th>sub_parva</th>\n",
       "      <th>verse</th>\n",
       "      <th>sub_verse</th>\n",
       "      <th>word</th>\n",
       "      <th>lengths</th>\n",
       "      <th>position</th>\n",
       "    </tr>\n",
       "  </thead>\n",
       "  <tbody>\n",
       "    <tr>\n",
       "      <th>97</th>\n",
       "      <td>1</td>\n",
       "      <td>1</td>\n",
       "      <td>10</td>\n",
       "      <td>c</td>\n",
       "      <td>bahUni</td>\n",
       "      <td>LGL</td>\n",
       "      <td>1</td>\n",
       "    </tr>\n",
       "    <tr>\n",
       "      <th>140</th>\n",
       "      <td>1</td>\n",
       "      <td>1</td>\n",
       "      <td>13</td>\n",
       "      <td>e</td>\n",
       "      <td>bhavanta</td>\n",
       "      <td>LGL</td>\n",
       "      <td>1</td>\n",
       "    </tr>\n",
       "    <tr>\n",
       "      <th>143</th>\n",
       "      <td>1</td>\n",
       "      <td>1</td>\n",
       "      <td>13</td>\n",
       "      <td>e</td>\n",
       "      <td>bravImi</td>\n",
       "      <td>LGL</td>\n",
       "      <td>9</td>\n",
       "    </tr>\n",
       "    <tr>\n",
       "      <th>596</th>\n",
       "      <td>1</td>\n",
       "      <td>1</td>\n",
       "      <td>55</td>\n",
       "      <td>c</td>\n",
       "      <td>jagAma</td>\n",
       "      <td>LGL</td>\n",
       "      <td>1</td>\n",
       "    </tr>\n",
       "    <tr>\n",
       "      <th>605</th>\n",
       "      <td>1</td>\n",
       "      <td>1</td>\n",
       "      <td>56</td>\n",
       "      <td>a</td>\n",
       "      <td>gateSu</td>\n",
       "      <td>LGL</td>\n",
       "      <td>9</td>\n",
       "    </tr>\n",
       "    <tr>\n",
       "      <th>...</th>\n",
       "      <td>...</td>\n",
       "      <td>...</td>\n",
       "      <td>...</td>\n",
       "      <td>...</td>\n",
       "      <td>...</td>\n",
       "      <td>...</td>\n",
       "      <td>...</td>\n",
       "    </tr>\n",
       "    <tr>\n",
       "      <th>809350</th>\n",
       "      <td>18</td>\n",
       "      <td>5</td>\n",
       "      <td>7</td>\n",
       "      <td>e</td>\n",
       "      <td>uvAca</td>\n",
       "      <td>LGL</td>\n",
       "      <td>2</td>\n",
       "    </tr>\n",
       "    <tr>\n",
       "      <th>809457</th>\n",
       "      <td>18</td>\n",
       "      <td>5</td>\n",
       "      <td>17</td>\n",
       "      <td>c</td>\n",
       "      <td>viveza</td>\n",
       "      <td>LGL</td>\n",
       "      <td>1</td>\n",
       "    </tr>\n",
       "    <tr>\n",
       "      <th>809613</th>\n",
       "      <td>18</td>\n",
       "      <td>5</td>\n",
       "      <td>30</td>\n",
       "      <td>c</td>\n",
       "      <td>nRpasya</td>\n",
       "      <td>LGL</td>\n",
       "      <td>13</td>\n",
       "    </tr>\n",
       "    <tr>\n",
       "      <th>809696</th>\n",
       "      <td>18</td>\n",
       "      <td>5</td>\n",
       "      <td>38</td>\n",
       "      <td>c</td>\n",
       "      <td>ihAsti</td>\n",
       "      <td>LGL</td>\n",
       "      <td>2</td>\n",
       "    </tr>\n",
       "    <tr>\n",
       "      <th>809822</th>\n",
       "      <td>18</td>\n",
       "      <td>5</td>\n",
       "      <td>49</td>\n",
       "      <td>a</td>\n",
       "      <td>chRNoti</td>\n",
       "      <td>LGL</td>\n",
       "      <td>13</td>\n",
       "    </tr>\n",
       "  </tbody>\n",
       "</table>\n",
       "<p>10256 rows × 7 columns</p>\n",
       "</div>"
      ],
      "text/plain": [
       "       parva sub_parva verse sub_verse      word lengths position\n",
       "97         1         1    10         c    bahUni     LGL        1\n",
       "140        1         1    13         e  bhavanta     LGL        1\n",
       "143        1         1    13         e   bravImi     LGL        9\n",
       "596        1         1    55         c    jagAma     LGL        1\n",
       "605        1         1    56         a    gateSu     LGL        9\n",
       "...      ...       ...   ...       ...       ...     ...      ...\n",
       "809350    18         5     7         e     uvAca     LGL        2\n",
       "809457    18         5    17         c    viveza     LGL        1\n",
       "809613    18         5    30         c   nRpasya     LGL       13\n",
       "809696    18         5    38         c    ihAsti     LGL        2\n",
       "809822    18         5    49         a   chRNoti     LGL       13\n",
       "\n",
       "[10256 rows x 7 columns]"
      ]
     },
     "execution_count": 22,
     "metadata": {},
     "output_type": "execute_result"
    }
   ],
   "source": [
    "df_localisation[df_localisation[\"lengths\"] == \"LGL\"]"
   ]
  }
 ],
 "metadata": {
  "kernelspec": {
   "display_name": "Python 3 (ipykernel)",
   "language": "python",
   "name": "python3"
  },
  "language_info": {
   "codemirror_mode": {
    "name": "ipython",
    "version": 3
   },
   "file_extension": ".py",
   "mimetype": "text/x-python",
   "name": "python",
   "nbconvert_exporter": "python",
   "pygments_lexer": "ipython3",
   "version": "3.10.7"
  }
 },
 "nbformat": 4,
 "nbformat_minor": 5
}
